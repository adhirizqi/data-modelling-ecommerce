{
 "cells": [
  {
   "cell_type": "markdown",
   "metadata": {},
   "source": [
    "# 1. Perkenalan"
   ]
  },
  {
   "cell_type": "markdown",
   "metadata": {},
   "source": [
    "'''\n",
    "\n",
    "\n",
    "Nama  : Adhi Rizqi Alfaqih\n",
    "\n",
    "Program ini dibuat untuk melakukan pengambilan, pengolahan, dan analisis data.\n",
    "\n",
    "'''"
   ]
  },
  {
   "cell_type": "markdown",
   "metadata": {},
   "source": [
    "# 2. Bussiness Understanding"
   ]
  },
  {
   "cell_type": "markdown",
   "metadata": {},
   "source": [
    "## 2.1. Latar Belakang"
   ]
  },
  {
   "cell_type": "markdown",
   "metadata": {},
   "source": [
    "Dalam era digital saat ini, platform e-commerce semakin berkembang pesat. Dengan meningkatnya jumlah transaksi online, penting bagi perusahaan untuk memiliki sistem yang efisien dalam mengelola dan menganalisis data penjualan. Data warehouse menjadi solusi yang tepat untuk menyimpan dan menganalisis data ini, sehingga perusahaan dapat mengambil keputusan yang lebih baik berdasarkan informasi yang akurat."
   ]
  },
  {
   "cell_type": "markdown",
   "metadata": {},
   "source": [
    "## 2.2. Permasalahan Bisnis"
   ]
  },
  {
   "cell_type": "markdown",
   "metadata": {},
   "source": [
    "Perusahaan e-commerce menghadapi beberapa tantangan dalam mengelola data penjualan, antara lain:\n",
    "\n",
    "- Pengelolaan Data yang Terpisah: Data penjualan, pelanggan, dan produk sering kali disimpan dalam sistem yang terpisah, membuat analisis menjadi sulit.\n",
    "- Kurangnya Wawasan: Tanpa analisis yang tepat, perusahaan tidak dapat memahami pola pembelian pelanggan, produk yang paling laku, dan tren penjualan.\n",
    "- Kesulitan dalam Pelaporan: Proses pelaporan yang lambat dan tidak efisien dapat menghambat pengambilan keputusan yang cepat.\n"
   ]
  },
  {
   "cell_type": "markdown",
   "metadata": {},
   "source": [
    "## 2.3. Proses Bisnis"
   ]
  },
  {
   "cell_type": "markdown",
   "metadata": {},
   "source": [
    "Proses bisniss pada perusahaan e-commerce dalam mengelola data penjualan, antara lain:\n",
    "\n",
    "- Pengguna / Pelanggan dapat mendaftarkan akunnya kepada 'The Look' lalu mengisi identitas seperti, \"Nama Depan\", \"Nama Belakang\", \"Jenis Kelamin\", \"Email\", serta \"Alamat\". Data-data tersebut akan dimasukkan ke Data \"user\"\n",
    "- Penjual dapat mendaftarkan produknya kepada \"The Look\" lalu mengisi identitas produk seperti, \"Nama Produk\", \"Merk\", \"Kategori\", dan \"Harga Jual\". Data-data tersebut akan dimasukkan ke data \"product\"\n",
    "- Lalu apabila terjadi transaksi antara Pelanggan dengan Penjual, data-data seperti \"user\", \"product\", \"tanggal pemesanan\", dan \"status pengiriman\" akan masuk ke data \"orders\"\n",
    "- Untuk mempermudah presentasi penjualan, kita akan membuat filter data berupa tanggal, yang berisi \"Tanggal\", \"Bulan\", \"Quarter\", \"Half Year\" dan \"Year\". Kita masukkan data-data tersebut menjadi data \"date\".\n"
   ]
  },
  {
   "cell_type": "markdown",
   "metadata": {},
   "source": [
    "# 3. Step of Dimensional Modelling"
   ]
  },
  {
   "cell_type": "markdown",
   "metadata": {},
   "source": [
    "## 3.1. Identify Business Process"
   ]
  },
  {
   "cell_type": "markdown",
   "metadata": {},
   "source": [
    "Fokus utama dari data warehouse ini adalah proses penjualan, yang mencakup pengelolaan pesanan, item dalam pesanan, dan informasi produk serta pengguna.\n",
    "\n"
   ]
  },
  {
   "cell_type": "markdown",
   "metadata": {},
   "source": [
    "## 3.2. Identify Grain (Level of Detail)"
   ]
  },
  {
   "cell_type": "markdown",
   "metadata": {},
   "source": [
    "Grain dari data warehouse ini adalah transaksi penjualan, yang mencakup setiap item yang dipesan dalam setiap pesanan. Setiap baris dalam fact table akan mewakili satu item dalam satu pesanan."
   ]
  },
  {
   "cell_type": "markdown",
   "metadata": {},
   "source": [
    "## 3.3. Identify Dimension"
   ]
  },
  {
   "cell_type": "markdown",
   "metadata": {},
   "source": [
    "Berdasarkan tabel yang ada, berikut adalah dimension tables yang dapat diidentifikasi:\n",
    "\n",
    "a. Dimension Table: users_dimension\n",
    "\n",
    "- Menyimpan informasi tentang pengguna.\n",
    "\n",
    "b. Dimension Table: products_dimension\n",
    "\n",
    "- Menyimpan informasi tentang produk.\n",
    "\n",
    "c. Dimension Table: date_dimension\n",
    "\n",
    "- Informasi filterisasi tanggal.\n"
   ]
  },
  {
   "cell_type": "markdown",
   "metadata": {},
   "source": [
    "## 3.4. Identify Facts"
   ]
  },
  {
   "cell_type": "markdown",
   "metadata": {},
   "source": [
    "Fact table akan menyimpan data transaksi penjualan. jadi akan diidentifikasikan sebagai :\n",
    "- Fact Table : sales_fact"
   ]
  },
  {
   "cell_type": "markdown",
   "metadata": {},
   "source": [
    "# 4. Data Loading"
   ]
  },
  {
   "cell_type": "code",
   "execution_count": 1,
   "metadata": {},
   "outputs": [
    {
     "name": "stdout",
     "output_type": "stream",
     "text": [
      "Requirement already satisfied: spark in /opt/conda/lib/python3.12/site-packages (0.2.1)\n"
     ]
    }
   ],
   "source": [
    "!pip install spark #Instalasi pyspark"
   ]
  },
  {
   "cell_type": "code",
   "execution_count": 2,
   "metadata": {},
   "outputs": [],
   "source": [
    "import pyspark #Setelah instalasi, import pyspark ke dalam dataset"
   ]
  },
  {
   "cell_type": "code",
   "execution_count": 3,
   "metadata": {},
   "outputs": [],
   "source": [
    "from pyspark.sql import SparkSession #Untuk bisa men synchrone kan pyspark dengan sql"
   ]
  },
  {
   "cell_type": "code",
   "execution_count": 4,
   "metadata": {},
   "outputs": [],
   "source": [
    "from pyspark.sql import functions as F #untuk menambahkan function"
   ]
  },
  {
   "cell_type": "code",
   "execution_count": 5,
   "metadata": {},
   "outputs": [],
   "source": [
    "#Fungsi Query yang diperlukan untuk proses ini\n",
    "from pyspark.sql.functions import count, col, sum, monotonically_increasing_id, to_date, month, quarter, when,year"
   ]
  },
  {
   "cell_type": "code",
   "execution_count": 6,
   "metadata": {},
   "outputs": [],
   "source": [
    "#membuat app name pada spark\n",
    "spark = SparkSession.builder \\\n",
    "    .appName(\"WriteToPostgres\") \\\n",
    "    .appName(\"DropDuplicatesExample\") \\\n",
    "    .appName(\"FillMissingValues\") \\\n",
    "    .appName(\"UniqueValuesExample\") \\\n",
    "    .appName(\"RenameColumnsExample\") \\\n",
    "    .appName(\"JoinExample\") \\\n",
    "    .appName(\"RenameandMoveColumn\") \\\n",
    "    .appName(\"JoinUserandProductbyUserID\") \\\n",
    "    .config(\"spark.jars.packages\", \"org.postgresql:postgresql:42.6.0\") \\\n",
    "    .getOrCreate()"
   ]
  },
  {
   "cell_type": "code",
   "execution_count": 7,
   "metadata": {},
   "outputs": [
    {
     "name": "stdout",
     "output_type": "stream",
     "text": [
      "JAR Files:\n",
      "List(spark://effd6fc3b895:32893/jars/org.postgresql_postgresql-42.6.0.jar, spark://effd6fc3b895:32893/jars/org.checkerframework_checker-qual-3.31.0.jar)\n"
     ]
    }
   ],
   "source": [
    "# Akses SparkContext\n",
    "sc = spark.sparkContext\n",
    "# List the loaded JAR files\n",
    "print(\"JAR Files:\")\n",
    "print(sc._jsc.sc().listJars())"
   ]
  },
  {
   "cell_type": "markdown",
   "metadata": {},
   "source": [
    "## 4.1. users_dimension"
   ]
  },
  {
   "cell_type": "markdown",
   "metadata": {},
   "source": [
    "### 4.1.1 Data Loading"
   ]
  },
  {
   "cell_type": "code",
   "execution_count": 8,
   "metadata": {},
   "outputs": [],
   "source": [
    "#import data .csv ke dalam dataframe \"user_dimension\"\n",
    "users_dimension = spark.read.csv('thelook_ecommerce.users.csv', header=True, inferSchema=True)"
   ]
  },
  {
   "cell_type": "code",
   "execution_count": 9,
   "metadata": {},
   "outputs": [
    {
     "name": "stdout",
     "output_type": "stream",
     "text": [
      "+-----+----------+---------+--------------------+---+------+-----+--------------------+-----------+----+-------+------------+------------+--------------+-------------------+--------------------+\n",
      "|   id|first_name|last_name|               email|age|gender|state|      street_address|postal_code|city|country|    latitude|   longitude|traffic_source|         created_at|           user_geom|\n",
      "+-----+----------+---------+--------------------+---+------+-----+--------------------+-----------+----+-------+------------+------------+--------------+-------------------+--------------------+\n",
      "|80930|     Donna|Gutierrez|donnagutierrez@ex...| 34|     F| Acre|2319 Osborn Junct...|  69980-000|null| Brasil|-8.065346116|-72.87094866|        Search|2022-03-14 15:01:00|POINT(-72.8709486...|\n",
      "|80559|  Jermaine|  Pittman|jermainepittman@e...| 45|     M| Acre|3750 Kim Mill Apt...|  69980-000|null| Brasil|-8.065346116|-72.87094866|        Search|2020-12-29 13:19:00|POINT(-72.8709486...|\n",
      "|98339|     Henry|   Rivera|henryrivera@examp...| 41|     M| Acre| 090 James Junctions|  69980-000|null| Brasil|-8.065346116|-72.87094866|        Search|2020-01-04 07:59:00|POINT(-72.8709486...|\n",
      "|57621|    Dennis|    Brown|dennisbrown@examp...| 40|     M| Acre|58046 Eduardo Tra...|  69980-000|null| Brasil|-8.065346116|-72.87094866|        Search|2019-05-21 16:03:00|POINT(-72.8709486...|\n",
      "|58707|   Shannon|    White|shannonwhite@exam...| 19|     F| Acre|0630 Mays Hollow ...|  69980-000|null| Brasil|-8.065346116|-72.87094866|        Search|2022-04-06 13:19:00|POINT(-72.8709486...|\n",
      "|50104|    Alyssa| Mcdaniel|alyssamcdaniel@ex...| 26|     F| Acre|  3992 Alan Crescent|  69980-000|null| Brasil|-8.065346116|-72.87094866|         Email|2019-12-25 03:34:00|POINT(-72.8709486...|\n",
      "|94728|      Sean|   Wright|seanwright@exampl...| 31|     M| Acre|875 Krueger Green...|  69980-000|null| Brasil|-8.065346116|-72.87094866|        Search|2019-10-01 18:53:00|POINT(-72.8709486...|\n",
      "| 2073|   Michael|   Bailey|michaelbailey@exa...| 58|     M| Acre|    22971 Lisa Rapid|  69980-000|null| Brasil|-8.065346116|-72.87094866|        Search|2020-02-06 17:26:00|POINT(-72.8709486...|\n",
      "|87230|     Bobby|    Ortiz|bobbyortiz@exampl...| 12|     M| Acre|373 Payne Neck Su...|  69980-000|null| Brasil|-8.065346116|-72.87094866|        Search|2022-03-29 07:06:00|POINT(-72.8709486...|\n",
      "|42299|     Jimmy|    Lewis|jimmylewis@exampl...| 50|     M| Acre|96985 Joy Fords S...|  69980-000|null| Brasil|-8.065346116|-72.87094866|        Search|2023-03-02 04:43:00|POINT(-72.8709486...|\n",
      "|16622|      Omar| Mitchell|omarmitchell@exam...| 61|     M| Acre|371 Solis Coves A...|  69980-000|null| Brasil|-8.065346116|-72.87094866|       Display|2025-02-03 14:49:00|POINT(-72.8709486...|\n",
      "|42663|    Dustin|    Olsen|dustinolsen@examp...| 45|     M| Acre|8977 Henderson Lo...|  69980-000|null| Brasil|-8.065346116|-72.87094866|       Organic|2020-09-11 04:27:00|POINT(-72.8709486...|\n",
      "|54398|    Ashley| Hamilton|ashleyhamilton@ex...| 28|     F| Acre| 497 Raymond Mission|  69980-000|null| Brasil|-8.065346116|-72.87094866|        Search|2023-05-28 07:57:00|POINT(-72.8709486...|\n",
      "|90606|     Bobby| Arellano|bobbyarellano@exa...| 59|     M| Acre|     8861 Mark Fords|  69980-000|null| Brasil|-8.065346116|-72.87094866|      Facebook|2023-10-17 06:17:00|POINT(-72.8709486...|\n",
      "|26691|   Jeffrey|   Newton|jeffreynewton@exa...| 36|     M| Acre|  0179 Laura Station|  69980-000|null| Brasil|-8.065346116|-72.87094866|        Search|2022-08-07 16:43:00|POINT(-72.8709486...|\n",
      "|65565|     Misty|     Peck|mistypeck@example...| 29|     F| Acre|6812 William Trac...|  69980-000|null| Brasil|-8.065346116|-72.87094866|        Search|2023-09-19 08:48:00|POINT(-72.8709486...|\n",
      "|15028|     Dylan|   Garcia|dylangarcia@examp...| 68|     M| Acre|80840 Mcknight Ha...|  69980-000|null| Brasil|-8.065346116|-72.87094866|       Organic|2021-01-24 13:13:00|POINT(-72.8709486...|\n",
      "|23226| Catherine|   Garcia|catherinegarcia@e...| 40|     F| Acre|143 Williams Unde...|  69980-000|null| Brasil|-8.065346116|-72.87094866|         Email|2024-01-06 14:16:00|POINT(-72.8709486...|\n",
      "|65895|   Matthew|Rodriguez|matthewrodriguez@...| 32|     M| Acre|5296 Timothy Oval...|  69980-000|null| Brasil|-8.065346116|-72.87094866|         Email|2019-10-02 09:16:00|POINT(-72.8709486...|\n",
      "|15602|    Nathan|Nicholson|nathannicholson@e...| 43|     M| Acre|  72672 Joshua Mount|  69980-000|null| Brasil|-8.065346116|-72.87094866|        Search|2020-11-06 07:11:00|POINT(-72.8709486...|\n",
      "+-----+----------+---------+--------------------+---+------+-----+--------------------+-----------+----+-------+------------+------------+--------------+-------------------+--------------------+\n",
      "only showing top 20 rows\n",
      "\n"
     ]
    }
   ],
   "source": [
    "#menampilkan keseluruahn data \"users_dimension\"\n",
    "users_dimension.show()"
   ]
  },
  {
   "cell_type": "code",
   "execution_count": 10,
   "metadata": {},
   "outputs": [
    {
     "name": "stdout",
     "output_type": "stream",
     "text": [
      "root\n",
      " |-- id: integer (nullable = true)\n",
      " |-- first_name: string (nullable = true)\n",
      " |-- last_name: string (nullable = true)\n",
      " |-- email: string (nullable = true)\n",
      " |-- age: integer (nullable = true)\n",
      " |-- gender: string (nullable = true)\n",
      " |-- state: string (nullable = true)\n",
      " |-- street_address: string (nullable = true)\n",
      " |-- postal_code: string (nullable = true)\n",
      " |-- city: string (nullable = true)\n",
      " |-- country: string (nullable = true)\n",
      " |-- latitude: double (nullable = true)\n",
      " |-- longitude: double (nullable = true)\n",
      " |-- traffic_source: string (nullable = true)\n",
      " |-- created_at: timestamp (nullable = true)\n",
      " |-- user_geom: string (nullable = true)\n",
      "\n"
     ]
    }
   ],
   "source": [
    "#menampilkan informasi jenis data di \"users_dimension\"\n",
    "users_dimension.printSchema()"
   ]
  },
  {
   "cell_type": "code",
   "execution_count": 11,
   "metadata": {},
   "outputs": [],
   "source": [
    "#mengecek jumlah data yang \"missing values\" pada tiap kolom\n",
    "users_dimension_mv = users_dimension.select([sum(col(c).isNull().cast(\"int\")).alias(c) for c in users_dimension.columns])"
   ]
  },
  {
   "cell_type": "code",
   "execution_count": 12,
   "metadata": {},
   "outputs": [
    {
     "name": "stdout",
     "output_type": "stream",
     "text": [
      "+---+----------+---------+-----+---+------+-----+--------------+-----------+----+-------+--------+---------+--------------+----------+---------+\n",
      "| id|first_name|last_name|email|age|gender|state|street_address|postal_code|city|country|latitude|longitude|traffic_source|created_at|user_geom|\n",
      "+---+----------+---------+-----+---+------+-----+--------------+-----------+----+-------+--------+---------+--------------+----------+---------+\n",
      "|  0|         0|        0|    0|  0|     0|    0|             0|          0|   0|      0|       0|        0|             0|         0|        0|\n",
      "+---+----------+---------+-----+---+------+-----+--------------+-----------+----+-------+--------+---------+--------------+----------+---------+\n",
      "\n"
     ]
    }
   ],
   "source": [
    "#menampilkan hasil pengecekkan jumlah \"missing values\"\n",
    "users_dimension_mv.show()"
   ]
  },
  {
   "cell_type": "markdown",
   "metadata": {},
   "source": [
    "Dari data terlihat bahwa tidak ada \"missing values\" di dalam data \"users_dimension\""
   ]
  },
  {
   "cell_type": "markdown",
   "metadata": {},
   "source": [
    "### 4.1.2 Data Cleaning"
   ]
  },
  {
   "cell_type": "code",
   "execution_count": 13,
   "metadata": {},
   "outputs": [],
   "source": [
    "#Kita drop untuk beberapa kolom yang tidak berhubungan dengan \"penjualan\"\n",
    "users_dimension = users_dimension.drop(\"latitude\",\"longitude\",\"traffic_source\",\"user_geom\",\"age\",\"state\",\"street_address\", \"postal_code\",\"city\",\"country\")"
   ]
  },
  {
   "cell_type": "code",
   "execution_count": 14,
   "metadata": {},
   "outputs": [],
   "source": [
    "#kita drop sekiranya data yang memiliki data yang duplikat\n",
    "users_dimension = users_dimension.dropDuplicates()"
   ]
  },
  {
   "cell_type": "code",
   "execution_count": 15,
   "metadata": {},
   "outputs": [],
   "source": [
    "#merubah nama kolom \"id\" menjadi \"user_id\"\n",
    "users_dimension = users_dimension.withColumnRenamed(\"id\", \"user_id\")"
   ]
  },
  {
   "cell_type": "code",
   "execution_count": 16,
   "metadata": {},
   "outputs": [
    {
     "name": "stdout",
     "output_type": "stream",
     "text": [
      "+-------+----------+----------+--------------------+------+-------------------+\n",
      "|user_id|first_name| last_name|               email|gender|         created_at|\n",
      "+-------+----------+----------+--------------------+------+-------------------+\n",
      "|  75428|  Brittany|    Landry|brittanylandry@ex...|     F|2019-09-14 03:13:00|\n",
      "|  50056|     Scott|  Figueroa|scottfigueroa@exa...|     M|2020-02-01 04:48:00|\n",
      "|  80517|    Joseph|     Mills|josephmills@examp...|     M|2021-12-19 12:05:00|\n",
      "|  73778|     Molly|   Fuentes|mollyfuentes@exam...|     F|2024-05-16 00:52:00|\n",
      "|  87138|   Crystal|  Jacobson|crystaljacobson@e...|     F|2021-05-14 15:39:00|\n",
      "|  48838|    Samuel|     Banks|samuelbanks@examp...|     M|2023-07-17 13:54:00|\n",
      "|  27802|     James|    Cooper|jamescooper@examp...|     M|2022-12-01 02:05:00|\n",
      "|  51643|     Laura|    Fisher|laurafisher@examp...|     F|2022-08-27 05:17:00|\n",
      "|  80932|    Sandra|    Clarke|sandraclarke@exam...|     F|2023-08-17 07:28:00|\n",
      "|  13038|      Lori|    Murray|lorimurray@exampl...|     F|2025-01-04 18:25:00|\n",
      "|  66479|      Lisa|   Herrera|lisaherrera@examp...|     F|2019-08-14 06:49:00|\n",
      "|  93432|      Mark|     Mason|markmason@example...|     M|2023-07-14 05:00:00|\n",
      "|  29101|    Daniel|Washington|danielwashington@...|     M|2024-03-25 08:46:00|\n",
      "|  13657|    Pamela|     Brown|pamelabrown@examp...|     F|2022-11-25 00:35:00|\n",
      "|  13965|     Billy|   Burgess|billyburgess@exam...|     M|2024-01-28 01:10:00|\n",
      "|  51564|   William|    Garcia|williamgarcia@exa...|     M|2023-12-25 12:21:00|\n",
      "|  13795|   Brandon|    Tucker|brandontucker@exa...|     M|2020-07-03 02:49:00|\n",
      "|  72364|     Laura|   Salinas|laurasalinas@exam...|     F|2023-04-09 09:16:00|\n",
      "|  35397|   Richard|       Lee|richardlee@exampl...|     M|2021-11-28 15:51:00|\n",
      "|  77174|    Kristi|  Copeland|kristicopeland@ex...|     F|2020-09-17 13:04:00|\n",
      "+-------+----------+----------+--------------------+------+-------------------+\n",
      "only showing top 20 rows\n",
      "\n"
     ]
    }
   ],
   "source": [
    "#menampilkan hasil pembersihan dari \"users_dimension\"\n",
    "users_dimension.show()"
   ]
  },
  {
   "cell_type": "markdown",
   "metadata": {},
   "source": [
    "## 4.2. products_dimension"
   ]
  },
  {
   "cell_type": "markdown",
   "metadata": {},
   "source": [
    "### 4.2.1. Data Loading"
   ]
  },
  {
   "cell_type": "code",
   "execution_count": 17,
   "metadata": {},
   "outputs": [],
   "source": [
    "#import data .csv ke dalam dataframe \"product_dimension\"\n",
    "products_dimension = spark.read.csv('thelook_ecommerce.products.csv', header=True, inferSchema=True)"
   ]
  },
  {
   "cell_type": "code",
   "execution_count": 18,
   "metadata": {},
   "outputs": [
    {
     "name": "stdout",
     "output_type": "stream",
     "text": [
      "+-----+------------------+-----------+--------------------+-----+------------------+----------+--------------------+----------------------+\n",
      "|   id|              cost|   category|                name|brand|      retail_price|department|                 sku|distribution_center_id|\n",
      "+-----+------------------+-----------+--------------------+-----+------------------+----------+--------------------+----------------------+\n",
      "|13842| 2.518749990849756|Accessories|Low Profile Dyed ...|   MG|              6.25|     Women|EBD58B8A3F1D72F42...|                     1|\n",
      "|13928|2.3383499148894105|Accessories|Low Profile Dyed ...|   MG| 5.949999809265137|     Women|2EAC42424D12436BD...|                     1|\n",
      "|14115| 4.879559879379869|Accessories|Enzyme Regular So...|   MG|10.989999771118164|     Women|EE364229B2791D1EF...|                     1|\n",
      "|14157| 4.648769887297898|Accessories|Enzyme Regular So...|   MG|10.989999771118164|     Women|00BD13095D06C20B1...|                     1|\n",
      "|14273| 6.507929886473045|Accessories|Washed Canvas Ivy...|   MG|15.989999771118164|     Women|F531DC20FDE20B7AD...|                     1|\n",
      "|15674|3.1062499998370185|       Plus|Low Profile Dyed ...|   MG|              6.25|     Women|63894CE404B8C6529...|                     1|\n",
      "|15816|3.1772999091416594|       Plus|Low Profile Dyed ...|   MG| 5.949999809265137|     Women|151EA8C2D98CE89C2...|                     1|\n",
      "|28646|  8.73562987972319|Accessories|4 Panel Large Bil...|   MG|19.989999771118164|       Men|789334DE6DAA80D83...|                     1|\n",
      "|28670|2.6759399153566363|Accessories|Low Profile Dyed ...|   MG| 6.179999828338623|       Men|E74843B99DA8B2977...|                     1|\n",
      "|28714| 2.275000000372529|Accessories|Low Profile Dyed ...|   MG|              6.25|       Men|8CA33D44648CC9FEE...|                     1|\n",
      "|28779|  7.36748991528362|Accessories|Fishing Hat (01)-...|   MG|20.989999771118164|       Men|167D739013D283895...|                     1|\n",
      "|28904|6.7957498848550015|Accessories|Fashion Plaid Ivy...|   MG|15.989999771118164|       Men|0EBD0B8B51EB0D006...|                     1|\n",
      "|29007|10.795999868229032|Accessories|Washed Hunting Fi...|   MG|26.989999771118164|       Men|11172787BDF65BA27...|                     1|\n",
      "|12777|16.691290760814255|       Swim|Womens MW Tankini...|   MW|  44.9900016784668|     Women|553C3741E8D893FE9...|                     1|\n",
      "|12810|21.055320884742144|       Swim|Mw Long Ruffle Ta...|   MW|  44.9900016784668|     Women|5A1106FCB6C233176...|                     1|\n",
      "|12812| 21.14530090284795|       Swim|Womens long tanki...|   MW|  44.9900016784668|     Women|179DB74797BDE5F37...|                     1|\n",
      "|12853| 18.71584077014294|       Swim|Womens MW Tankini...|   MW|  44.9900016784668|     Women|5EF893A3104AB0CC8...|                     1|\n",
      "|12900| 17.39565078823306|       Swim|Womens One Piece/...|   MW|  39.9900016784668|     Women|09EA221D3DB11DF1F...|                     1|\n",
      "|13247| 20.65041088706643|       Swim|Womens swimsuit M...|   MW|  44.9900016784668|     Women|EB61C2B1B1BF5D25C...|                     1|\n",
      "|13477|22.600890809484422|       Swim|MW Women's Swimsu...|   MW|  54.9900016784668|     Women|DBC50898CF582DFEB...|                     1|\n",
      "+-----+------------------+-----------+--------------------+-----+------------------+----------+--------------------+----------------------+\n",
      "only showing top 20 rows\n",
      "\n"
     ]
    }
   ],
   "source": [
    "#menampilkan \"product_dimension\"\n",
    "products_dimension.show()"
   ]
  },
  {
   "cell_type": "code",
   "execution_count": 19,
   "metadata": {},
   "outputs": [
    {
     "name": "stdout",
     "output_type": "stream",
     "text": [
      "root\n",
      " |-- id: integer (nullable = true)\n",
      " |-- cost: double (nullable = true)\n",
      " |-- category: string (nullable = true)\n",
      " |-- name: string (nullable = true)\n",
      " |-- brand: string (nullable = true)\n",
      " |-- retail_price: double (nullable = true)\n",
      " |-- department: string (nullable = true)\n",
      " |-- sku: string (nullable = true)\n",
      " |-- distribution_center_id: integer (nullable = true)\n",
      "\n"
     ]
    }
   ],
   "source": [
    "#Untuk menampilkan informasi data di \"product_dimension\"\n",
    "products_dimension.printSchema()"
   ]
  },
  {
   "cell_type": "markdown",
   "metadata": {},
   "source": [
    "Dari data tersebut terdapat keganjalan, data \"cost\" ber tipe \"double\". Tipe tersebut terdapat kemungkinan yaitu Numeric dan STR. Kita akan buat menjadi data numeric"
   ]
  },
  {
   "cell_type": "code",
   "execution_count": 20,
   "metadata": {},
   "outputs": [],
   "source": [
    "#untuk menghitung jumlah \"missing values\"\n",
    "products_dimension_mv = products_dimension.select([sum(col(c).isNull().cast(\"int\")).alias(c) for c in products_dimension.columns])"
   ]
  },
  {
   "cell_type": "code",
   "execution_count": 21,
   "metadata": {},
   "outputs": [
    {
     "name": "stdout",
     "output_type": "stream",
     "text": [
      "+---+----+--------+----+-----+------------+----------+---+----------------------+\n",
      "| id|cost|category|name|brand|retail_price|department|sku|distribution_center_id|\n",
      "+---+----+--------+----+-----+------------+----------+---+----------------------+\n",
      "|  0|   0|       0|   2|   24|           0|         0|  0|                     0|\n",
      "+---+----+--------+----+-----+------------+----------+---+----------------------+\n",
      "\n"
     ]
    }
   ],
   "source": [
    "#menampilkan jumlah missing values\n",
    "products_dimension_mv.show()"
   ]
  },
  {
   "cell_type": "markdown",
   "metadata": {},
   "source": [
    "Dari data \"products_dimension_mv\", terdapat 2 missing values di kolom \"name\" dan 24 missing values di kolom \"brand\""
   ]
  },
  {
   "cell_type": "markdown",
   "metadata": {},
   "source": [
    "### 4.2.2 Data Cleaning"
   ]
  },
  {
   "cell_type": "code",
   "execution_count": 22,
   "metadata": {},
   "outputs": [],
   "source": [
    "#Data yang tidak berhubungan dengan dengan penjualan akan di drop\n",
    "products_dimension = products_dimension.drop(\"distribution_center_id\",\"sku\",\"department\")"
   ]
  },
  {
   "cell_type": "code",
   "execution_count": 23,
   "metadata": {},
   "outputs": [],
   "source": [
    "#Kita akan ubah tipe data yang 'Double' pada kolom \"cost' menjadi tipe 'float'\n",
    "products_dimension = products_dimension.withColumn(\"cost\", col(\"cost\").cast(\"float\"))"
   ]
  },
  {
   "cell_type": "code",
   "execution_count": 24,
   "metadata": {},
   "outputs": [],
   "source": [
    "#Kita akan men drop data apabila terdapat data yang duplikat\n",
    "products_dimension = products_dimension.dropDuplicates()"
   ]
  },
  {
   "cell_type": "code",
   "execution_count": 25,
   "metadata": {},
   "outputs": [],
   "source": [
    "#Untuk mengisi missing values pada kolom \"name\" dan \"brand\"\n",
    "products_dimension = products_dimension.fillna({\n",
    "    'name': 'Unknown' , # Ganti dengan nilai 'unknown'\n",
    "    'brand': 'Unknown'     # Ganti dengan nilai 'unknown'\n",
    "})"
   ]
  },
  {
   "cell_type": "code",
   "execution_count": 26,
   "metadata": {},
   "outputs": [],
   "source": [
    "#Mengubah nama kolom \"id\" menjadi \"product_id\"\n",
    "products_dimension = products_dimension.withColumnRenamed(\"id\", \"product_id\")"
   ]
  },
  {
   "cell_type": "code",
   "execution_count": 27,
   "metadata": {},
   "outputs": [],
   "source": [
    "#mengecek kembali jumlah missing values\n",
    "products_dimension_mv = products_dimension.select([sum(col(c).isNull().cast(\"int\")).alias(c) for c in products_dimension.columns])"
   ]
  },
  {
   "cell_type": "code",
   "execution_count": 28,
   "metadata": {},
   "outputs": [
    {
     "name": "stdout",
     "output_type": "stream",
     "text": [
      "+----------+----+--------+----+-----+------------+\n",
      "|product_id|cost|category|name|brand|retail_price|\n",
      "+----------+----+--------+----+-----+------------+\n",
      "|         0|   0|       0|   0|    0|           0|\n",
      "+----------+----+--------+----+-----+------------+\n",
      "\n"
     ]
    }
   ],
   "source": [
    "#menampilkan jumlah misisng values\n",
    "products_dimension_mv.show()"
   ]
  },
  {
   "cell_type": "markdown",
   "metadata": {},
   "source": [
    "Dari data tersebut tidak ada missing values, memiliki arti yaitu proses pegisian missing values berhasil dilakukan"
   ]
  },
  {
   "cell_type": "code",
   "execution_count": 29,
   "metadata": {},
   "outputs": [
    {
     "name": "stdout",
     "output_type": "stream",
     "text": [
      "+----------+---------+--------------------+--------------------+--------------+------------------+\n",
      "|product_id|     cost|            category|                name|         brand|      retail_price|\n",
      "+----------+---------+--------------------+--------------------+--------------+------------------+\n",
      "|     18363| 65.09558|              Active|2XU Men's Compres...|           2XU|159.94000244140625|\n",
      "|     12717|   46.728|                Swim|Echo Design Women...|          ECHO|             118.0|\n",
      "|     28627|15.465581|         Accessories|Echo Design Men's...|          ECHO|  34.9900016784668|\n",
      "|     22629|   30.745|               Pants| Matix Men's Mj Cord|         Matix|              65.0|\n",
      "|      1821|   11.475|Fashion Hoodies &...|Hurley Juniors Yu...|        Hurley|              25.0|\n",
      "|     22942|   26.433|              Shorts|Hurley Men's Puer...|        Hurley|              49.5|\n",
      "|     28396|    9.675|         Accessories|Hurley Men's One ...|        Hurley|              25.0|\n",
      "|     20583|14.548301|               Jeans|Dickies Men's Reg...|       Dickies|29.450000762939453|\n",
      "|     20752| 20.12623|               Jeans|Dickies LD200 Men...|       Dickies|38.630001068115234|\n",
      "|      3905| 21.89562|             Dresses|FUNFASH RED BLACK...|       Funfash|  49.9900016784668|\n",
      "|      8803|61.311237|   Outerwear & Coats|Salomon Women's F...|       Salomon|139.97999572753906|\n",
      "|     16690|  39.3759|         Tops & Tees|Ashworth Mens Dua...|      Ashworth| 65.30000305175781|\n",
      "|     27802|    24.42|                Swim|Nat Nast Men's Na...|      Nat Nast|             41.25|\n",
      "|     20244| 16.54625| Suits & Sport Coats|Marc Ecko Men's T...|     Marc Ecko|             38.75|\n",
      "|     15631|   45.276|                Plus|Barmah 1018 Squas...|   Barmah Hats|              84.0|\n",
      "|      7624| 37.68812|   Blazers & Jackets|Only Hearts Women...|   Only Hearts| 98.66000366210936|\n",
      "|     21344|  112.125|               Jeans|Earnest Sewn Men'...|  Earnest Sewn|             195.0|\n",
      "|      9232|  5.21827|     Socks & Hosiery|Colorful Polka Do...|  Luxury Divas|13.989999771118164|\n",
      "|      4959|    52.82|               Jeans|Silver Jeans Juni...|  Silver Jeans|              95.0|\n",
      "|      9698|     14.4|      Sleep & Lounge|Tommy Hilfiger Wo...|Tommy Hilfiger|              25.0|\n",
      "+----------+---------+--------------------+--------------------+--------------+------------------+\n",
      "only showing top 20 rows\n",
      "\n"
     ]
    }
   ],
   "source": [
    "#Menampilkan hasil \"products_dimension\" setelah dicleaning\n",
    "products_dimension.show()"
   ]
  },
  {
   "cell_type": "markdown",
   "metadata": {},
   "source": [
    "## 4.3. date_dimension"
   ]
  },
  {
   "cell_type": "markdown",
   "metadata": {},
   "source": [
    "### 4.3.1 Data Loading"
   ]
  },
  {
   "cell_type": "markdown",
   "metadata": {},
   "source": [
    "Kita akan membuat data \"date_dimension\". Tentunya tidak ada pada file.csv, tentunya pada data BigQuery tidak tersedia, maka kita akan buat data itu sendiri, berdasarkan \"created_at\" dari data \"order_items\""
   ]
  },
  {
   "cell_type": "code",
   "execution_count": 30,
   "metadata": {},
   "outputs": [],
   "source": [
    "#Import file order_items.csv ke dalam dataframe\n",
    "date_dimension = spark.read.csv('thelook_ecommerce.order_items.csv', header=True, inferSchema=True)"
   ]
  },
  {
   "cell_type": "code",
   "execution_count": 31,
   "metadata": {},
   "outputs": [
    {
     "name": "stdout",
     "output_type": "stream",
     "text": [
      "+------+--------+-------+----------+-----------------+----------+-------------------+-------------------+-------------------+-----------+------------------+\n",
      "|    id|order_id|user_id|product_id|inventory_item_id|    status|         created_at|         shipped_at|       delivered_at|returned_at|        sale_price|\n",
      "+------+--------+-------+----------+-----------------+----------+-------------------+-------------------+-------------------+-----------+------------------+\n",
      "|127348|   87852|  70237|     14235|           343297| Cancelled|2024-08-02 15:46:40|               NULL|               NULL|       NULL|0.0199999995529651|\n",
      "| 68311|   47109|  37633|     14235|           184060|  Complete|2022-11-23 14:12:14|2022-11-25 11:43:00|2022-11-28 12:11:00|       NULL|0.0199999995529651|\n",
      "| 61918|   42739|  34142|     14235|           166877|   Shipped|2022-06-03 02:10:00|2022-06-03 15:19:00|               NULL|       NULL|0.0199999995529651|\n",
      "|161542|  111381|  89163|     14235|           435667|   Shipped|2021-08-05 07:09:13|2021-08-06 02:31:00|               NULL|       NULL|0.0199999995529651|\n",
      "|180554|  124433|  99753|     14235|           486974|   Shipped|2024-03-16 13:36:00|2024-03-18 16:20:00|               NULL|       NULL|0.0199999995529651|\n",
      "|116075|   80099|  63985|     14159|           312861| Cancelled|2022-12-17 03:52:19|               NULL|               NULL|       NULL|0.4900000095367431|\n",
      "| 52731|   36360|  29002|     14159|           142097|   Shipped|2024-12-15 17:32:51|2024-12-17 06:31:00|               NULL|       NULL|0.4900000095367431|\n",
      "| 85001|   58607|  46937|     14159|           229116|   Shipped|2024-08-14 22:39:46|2024-08-16 17:36:00|               NULL|       NULL|0.4900000095367431|\n",
      "| 36458|   25097|  20056|     28700|            98190| Cancelled|2022-07-12 05:25:28|               NULL|               NULL|       NULL|               1.5|\n",
      "|136708|   94215|  75344|     28700|           368668| Cancelled|2024-11-10 09:47:43|               NULL|               NULL|       NULL|               1.5|\n",
      "| 25691|   17672|  14159|     28700|            69084|  Complete|2022-06-16 13:32:52|2022-06-19 10:37:00|2022-06-20 09:42:00|       NULL|               1.5|\n",
      "|105828|   73009|  58366|     28700|           285281|  Complete|2024-05-05 01:28:51|2024-05-07 12:19:00|2024-05-08 10:18:00|       NULL|               1.5|\n",
      "|162375|  111933|  89622|     28700|           437907|  Complete|2023-01-02 01:51:18|2023-01-03 23:07:00|2023-01-07 00:54:00|       NULL|               1.5|\n",
      "| 15952|   10985|   8783|     28700|            42891|Processing|2020-10-20 12:25:36|               NULL|               NULL|       NULL|               1.5|\n",
      "| 54062|   37274|  29705|     14202|           145691|Processing|2022-07-21 17:12:00|               NULL|               NULL|       NULL|               1.5|\n",
      "| 64003|   44187|  35319|     14202|           172469|Processing|2022-04-07 09:16:07|               NULL|               NULL|       NULL|               1.5|\n",
      "| 39652|   27278|  21833|     28700|           106783|   Shipped|2019-11-30 05:59:52|2019-11-29 10:56:00|               NULL|       NULL|               1.5|\n",
      "| 61841|   42687|  34098|     14202|           166671|   Shipped|2021-01-15 13:17:55|2021-01-16 14:07:00|               NULL|       NULL|               1.5|\n",
      "| 73789|   50910|  40716|     28700|           198911|   Shipped|2023-02-14 17:44:02|2023-02-12 10:00:00|               NULL|       NULL|               1.5|\n",
      "|106730|   73638|  58872|     28700|           287709|   Shipped|2024-10-04 11:23:21|2024-10-03 19:33:00|               NULL|       NULL|               1.5|\n",
      "+------+--------+-------+----------+-----------------+----------+-------------------+-------------------+-------------------+-----------+------------------+\n",
      "only showing top 20 rows\n",
      "\n"
     ]
    }
   ],
   "source": [
    "#Menampilkan isi dari order_items.csv\n",
    "date_dimension.show()"
   ]
  },
  {
   "cell_type": "code",
   "execution_count": 32,
   "metadata": {},
   "outputs": [
    {
     "name": "stdout",
     "output_type": "stream",
     "text": [
      "root\n",
      " |-- id: integer (nullable = true)\n",
      " |-- order_id: integer (nullable = true)\n",
      " |-- user_id: integer (nullable = true)\n",
      " |-- product_id: integer (nullable = true)\n",
      " |-- inventory_item_id: integer (nullable = true)\n",
      " |-- status: string (nullable = true)\n",
      " |-- created_at: timestamp (nullable = true)\n",
      " |-- shipped_at: timestamp (nullable = true)\n",
      " |-- delivered_at: timestamp (nullable = true)\n",
      " |-- returned_at: timestamp (nullable = true)\n",
      " |-- sale_price: double (nullable = true)\n",
      "\n"
     ]
    }
   ],
   "source": [
    "#menampilkan jenis data pada \"order_items.csv\"\n",
    "date_dimension.printSchema()"
   ]
  },
  {
   "cell_type": "markdown",
   "metadata": {},
   "source": [
    "### 4.3.2 Data Cleaning"
   ]
  },
  {
   "cell_type": "code",
   "execution_count": 33,
   "metadata": {},
   "outputs": [],
   "source": [
    "#drop duplikat apabila data tersebut terdapat data yang duplikat\n",
    "date_dimension = date_dimension.dropDuplicates()"
   ]
  },
  {
   "cell_type": "code",
   "execution_count": 34,
   "metadata": {},
   "outputs": [],
   "source": [
    "#kita drop semua data kecuali kolom \"created_at\"\n",
    "date_dimension = date_dimension.drop(\"id\",\"order_id\",\"user_id\",\"product_id\",\"inventory_item_id\",\"status\",\"shipped_at\",\"sale_price\",\"returned_at\",\"delivered_at\")"
   ]
  },
  {
   "cell_type": "code",
   "execution_count": 35,
   "metadata": {},
   "outputs": [
    {
     "name": "stdout",
     "output_type": "stream",
     "text": [
      "+-------------------+\n",
      "|         created_at|\n",
      "+-------------------+\n",
      "|2024-10-06 00:52:44|\n",
      "|2024-05-24 02:59:55|\n",
      "|2020-07-20 09:12:12|\n",
      "|2022-08-04 05:57:06|\n",
      "|2023-07-07 13:53:06|\n",
      "|2023-06-04 10:36:08|\n",
      "|2024-08-27 09:45:24|\n",
      "|2024-04-28 13:35:34|\n",
      "|2022-02-18 08:37:01|\n",
      "|2024-12-22 12:26:46|\n",
      "|2023-02-11 10:50:49|\n",
      "|2022-07-02 07:50:50|\n",
      "|2023-10-11 01:37:46|\n",
      "|2022-09-11 13:33:56|\n",
      "|2023-06-17 16:59:08|\n",
      "|2024-12-05 05:18:05|\n",
      "|2024-04-27 16:36:47|\n",
      "|2022-10-16 11:44:12|\n",
      "|2025-01-02 22:40:01|\n",
      "|2025-01-31 00:33:39|\n",
      "+-------------------+\n",
      "only showing top 20 rows\n",
      "\n"
     ]
    }
   ],
   "source": [
    "#Menampilkan hasil drop data\n",
    "date_dimension.show()"
   ]
  },
  {
   "cell_type": "markdown",
   "metadata": {},
   "source": [
    "Setelah di drop, data yang tersisa adalah data \"created_at\" menjadi landasan untuk membuat data \"Month\", \"Quarter\", \"Half Year\" dan \"Year\""
   ]
  },
  {
   "cell_type": "code",
   "execution_count": 36,
   "metadata": {},
   "outputs": [],
   "source": [
    "# untuk membuat data \"month\" yang berisikan Bulan ke berapa pada data \"created_at\"\n",
    "date_dimension = date_dimension.withColumn(\"month\", month(col(\"created_at\")))"
   ]
  },
  {
   "cell_type": "code",
   "execution_count": 37,
   "metadata": {},
   "outputs": [],
   "source": [
    "# untuk membuat data \"quarter\" yang berisikan Quarter ke berapa pada data \"created_at\"\n",
    "date_dimension = date_dimension.withColumn(\"quarter\", quarter(col(\"created_at\")))"
   ]
  },
  {
   "cell_type": "code",
   "execution_count": 38,
   "metadata": {},
   "outputs": [],
   "source": [
    "# untuk membuat data \"Half\" yang berisikan Half Year ke berapa pada data \"created_at\"\n",
    "date_dimension = date_dimension.withColumn(\n",
    "    \"half_year\",\n",
    "    when(month(col(\"created_at\")) <= 6, \"H1\").otherwise(\"H2\")\n",
    ")"
   ]
  },
  {
   "cell_type": "code",
   "execution_count": 39,
   "metadata": {},
   "outputs": [],
   "source": [
    "# untuk membuat data \"year\" yang berisikan informasi tentang tahun pada data \"created_at\"\n",
    "date_dimension = date_dimension.withColumn(\"year\", year(col(\"created_at\")))"
   ]
  },
  {
   "cell_type": "code",
   "execution_count": 40,
   "metadata": {},
   "outputs": [],
   "source": [
    "#membuat unique ID pada \"date_dimension\"\n",
    "date_dimension = date_dimension.withColumn(\"date_id\", monotonically_increasing_id()).select(\"date_id\", *date_dimension.columns)"
   ]
  },
  {
   "cell_type": "code",
   "execution_count": 41,
   "metadata": {},
   "outputs": [
    {
     "name": "stdout",
     "output_type": "stream",
     "text": [
      "+-------+-------------------+-----+-------+---------+----+\n",
      "|date_id|         created_at|month|quarter|half_year|year|\n",
      "+-------+-------------------+-----+-------+---------+----+\n",
      "|      0|2024-10-06 00:52:44|   10|      4|       H2|2024|\n",
      "|      1|2024-05-24 02:59:55|    5|      2|       H1|2024|\n",
      "|      2|2020-07-20 09:12:12|    7|      3|       H2|2020|\n",
      "|      3|2022-08-04 05:57:06|    8|      3|       H2|2022|\n",
      "|      4|2023-07-07 13:53:06|    7|      3|       H2|2023|\n",
      "|      5|2023-06-04 10:36:08|    6|      2|       H1|2023|\n",
      "|      6|2024-08-27 09:45:24|    8|      3|       H2|2024|\n",
      "|      7|2024-04-28 13:35:34|    4|      2|       H1|2024|\n",
      "|      8|2022-02-18 08:37:01|    2|      1|       H1|2022|\n",
      "|      9|2024-12-22 12:26:46|   12|      4|       H2|2024|\n",
      "|     10|2023-02-11 10:50:49|    2|      1|       H1|2023|\n",
      "|     11|2022-07-02 07:50:50|    7|      3|       H2|2022|\n",
      "|     12|2023-10-11 01:37:46|   10|      4|       H2|2023|\n",
      "|     13|2022-09-11 13:33:56|    9|      3|       H2|2022|\n",
      "|     14|2023-06-17 16:59:08|    6|      2|       H1|2023|\n",
      "|     15|2024-12-05 05:18:05|   12|      4|       H2|2024|\n",
      "|     16|2024-04-27 16:36:47|    4|      2|       H1|2024|\n",
      "|     17|2022-10-16 11:44:12|   10|      4|       H2|2022|\n",
      "|     18|2025-01-02 22:40:01|    1|      1|       H1|2025|\n",
      "|     19|2025-01-31 00:33:39|    1|      1|       H1|2025|\n",
      "+-------+-------------------+-----+-------+---------+----+\n",
      "only showing top 20 rows\n",
      "\n"
     ]
    }
   ],
   "source": [
    "#menampilkan data hasil cleaning\n",
    "date_dimension.show()"
   ]
  },
  {
   "cell_type": "markdown",
   "metadata": {},
   "source": [
    "Dari data tersebut menunjukkan data berhasil dibuat sesuai dengan keinginan."
   ]
  },
  {
   "cell_type": "code",
   "execution_count": 42,
   "metadata": {},
   "outputs": [],
   "source": [
    "# untuk mengecek adanya missing values atau tidak pada date_dimension\n",
    "date_dimension_mv = date_dimension.select([sum(col(c).isNull().cast(\"int\")).alias(c) for c in date_dimension.columns])"
   ]
  },
  {
   "cell_type": "code",
   "execution_count": 43,
   "metadata": {},
   "outputs": [
    {
     "name": "stdout",
     "output_type": "stream",
     "text": [
      "+-------+----------+-----+-------+---------+----+\n",
      "|date_id|created_at|month|quarter|half_year|year|\n",
      "+-------+----------+-----+-------+---------+----+\n",
      "|      0|         0|    0|      0|        0|   0|\n",
      "+-------+----------+-----+-------+---------+----+\n",
      "\n"
     ]
    }
   ],
   "source": [
    "#menampilkan pengecekkan\n",
    "date_dimension_mv.show()"
   ]
  },
  {
   "cell_type": "markdown",
   "metadata": {},
   "source": [
    "Setelah dilakukan pengecekkan, tidak adanya missing values pada data \"date_dimension\"."
   ]
  },
  {
   "cell_type": "markdown",
   "metadata": {},
   "source": [
    "## 4.4. sales_fact"
   ]
  },
  {
   "cell_type": "markdown",
   "metadata": {},
   "source": [
    "### 4.4.1. Data Loading"
   ]
  },
  {
   "cell_type": "code",
   "execution_count": 44,
   "metadata": {},
   "outputs": [],
   "source": [
    "# mengimport data dari \"order_items.csv\" ke daam dataframe dan diberi nama \"sales_fact\"\n",
    "sales_fact = spark.read.csv('thelook_ecommerce.order_items.csv', header=True, inferSchema=True)"
   ]
  },
  {
   "cell_type": "code",
   "execution_count": 45,
   "metadata": {},
   "outputs": [
    {
     "name": "stdout",
     "output_type": "stream",
     "text": [
      "+------+--------+-------+----------+-----------------+----------+-------------------+-------------------+-------------------+-----------+------------------+\n",
      "|    id|order_id|user_id|product_id|inventory_item_id|    status|         created_at|         shipped_at|       delivered_at|returned_at|        sale_price|\n",
      "+------+--------+-------+----------+-----------------+----------+-------------------+-------------------+-------------------+-----------+------------------+\n",
      "|127348|   87852|  70237|     14235|           343297| Cancelled|2024-08-02 15:46:40|               NULL|               NULL|       NULL|0.0199999995529651|\n",
      "| 68311|   47109|  37633|     14235|           184060|  Complete|2022-11-23 14:12:14|2022-11-25 11:43:00|2022-11-28 12:11:00|       NULL|0.0199999995529651|\n",
      "| 61918|   42739|  34142|     14235|           166877|   Shipped|2022-06-03 02:10:00|2022-06-03 15:19:00|               NULL|       NULL|0.0199999995529651|\n",
      "|161542|  111381|  89163|     14235|           435667|   Shipped|2021-08-05 07:09:13|2021-08-06 02:31:00|               NULL|       NULL|0.0199999995529651|\n",
      "|180554|  124433|  99753|     14235|           486974|   Shipped|2024-03-16 13:36:00|2024-03-18 16:20:00|               NULL|       NULL|0.0199999995529651|\n",
      "|116075|   80099|  63985|     14159|           312861| Cancelled|2022-12-17 03:52:19|               NULL|               NULL|       NULL|0.4900000095367431|\n",
      "| 52731|   36360|  29002|     14159|           142097|   Shipped|2024-12-15 17:32:51|2024-12-17 06:31:00|               NULL|       NULL|0.4900000095367431|\n",
      "| 85001|   58607|  46937|     14159|           229116|   Shipped|2024-08-14 22:39:46|2024-08-16 17:36:00|               NULL|       NULL|0.4900000095367431|\n",
      "| 36458|   25097|  20056|     28700|            98190| Cancelled|2022-07-12 05:25:28|               NULL|               NULL|       NULL|               1.5|\n",
      "|136708|   94215|  75344|     28700|           368668| Cancelled|2024-11-10 09:47:43|               NULL|               NULL|       NULL|               1.5|\n",
      "| 25691|   17672|  14159|     28700|            69084|  Complete|2022-06-16 13:32:52|2022-06-19 10:37:00|2022-06-20 09:42:00|       NULL|               1.5|\n",
      "|105828|   73009|  58366|     28700|           285281|  Complete|2024-05-05 01:28:51|2024-05-07 12:19:00|2024-05-08 10:18:00|       NULL|               1.5|\n",
      "|162375|  111933|  89622|     28700|           437907|  Complete|2023-01-02 01:51:18|2023-01-03 23:07:00|2023-01-07 00:54:00|       NULL|               1.5|\n",
      "| 15952|   10985|   8783|     28700|            42891|Processing|2020-10-20 12:25:36|               NULL|               NULL|       NULL|               1.5|\n",
      "| 54062|   37274|  29705|     14202|           145691|Processing|2022-07-21 17:12:00|               NULL|               NULL|       NULL|               1.5|\n",
      "| 64003|   44187|  35319|     14202|           172469|Processing|2022-04-07 09:16:07|               NULL|               NULL|       NULL|               1.5|\n",
      "| 39652|   27278|  21833|     28700|           106783|   Shipped|2019-11-30 05:59:52|2019-11-29 10:56:00|               NULL|       NULL|               1.5|\n",
      "| 61841|   42687|  34098|     14202|           166671|   Shipped|2021-01-15 13:17:55|2021-01-16 14:07:00|               NULL|       NULL|               1.5|\n",
      "| 73789|   50910|  40716|     28700|           198911|   Shipped|2023-02-14 17:44:02|2023-02-12 10:00:00|               NULL|       NULL|               1.5|\n",
      "|106730|   73638|  58872|     28700|           287709|   Shipped|2024-10-04 11:23:21|2024-10-03 19:33:00|               NULL|       NULL|               1.5|\n",
      "+------+--------+-------+----------+-----------------+----------+-------------------+-------------------+-------------------+-----------+------------------+\n",
      "only showing top 20 rows\n",
      "\n"
     ]
    }
   ],
   "source": [
    "#menampilkan isi dari \"sales_fact\"\n",
    "sales_fact.show()"
   ]
  },
  {
   "cell_type": "code",
   "execution_count": 46,
   "metadata": {},
   "outputs": [
    {
     "name": "stdout",
     "output_type": "stream",
     "text": [
      "root\n",
      " |-- id: integer (nullable = true)\n",
      " |-- order_id: integer (nullable = true)\n",
      " |-- user_id: integer (nullable = true)\n",
      " |-- product_id: integer (nullable = true)\n",
      " |-- inventory_item_id: integer (nullable = true)\n",
      " |-- status: string (nullable = true)\n",
      " |-- created_at: timestamp (nullable = true)\n",
      " |-- shipped_at: timestamp (nullable = true)\n",
      " |-- delivered_at: timestamp (nullable = true)\n",
      " |-- returned_at: timestamp (nullable = true)\n",
      " |-- sale_price: double (nullable = true)\n",
      "\n"
     ]
    }
   ],
   "source": [
    "#menampilkan infromasi dari dati \"sales_fact\"\n",
    "sales_fact.printSchema()"
   ]
  },
  {
   "cell_type": "markdown",
   "metadata": {},
   "source": [
    "### 4.4.2. Data Cleaning"
   ]
  },
  {
   "cell_type": "code",
   "execution_count": 47,
   "metadata": {},
   "outputs": [],
   "source": [
    "#melakukan drop duplikat apabila terdapat data yang duplikat\n",
    "sales_fact = sales_fact.dropDuplicates()"
   ]
  },
  {
   "cell_type": "code",
   "execution_count": 48,
   "metadata": {},
   "outputs": [],
   "source": [
    "#untuk menyempurnakan isi dari \"sales_fact\" maka akan dibuat data 'quantity'. Maka kita buat qty dengan cara seperti berikut\n",
    "sales_fact_qty = sales_fact.groupBy(\"order_id\", \"product_id\").agg(count(\"*\").alias(\"quantity\"))"
   ]
  },
  {
   "cell_type": "code",
   "execution_count": 49,
   "metadata": {},
   "outputs": [
    {
     "name": "stdout",
     "output_type": "stream",
     "text": [
      "+--------+----------+--------+\n",
      "|order_id|product_id|quantity|\n",
      "+--------+----------+--------+\n",
      "|   59731|     13920|       1|\n",
      "|   96800|     20061|       1|\n",
      "|   15065|     21617|       1|\n",
      "|   26791|     24562|       1|\n",
      "|   36518|      2216|       1|\n",
      "|    2035|     21910|       1|\n",
      "|   20422|     20184|       1|\n",
      "|    3873|     17266|       1|\n",
      "|  122187|      4481|       1|\n",
      "|  122482|     16494|       1|\n",
      "|   83877|     10764|       1|\n",
      "|   81484|     17560|       1|\n",
      "|  106446|      3017|       1|\n",
      "|    4001|     20339|       1|\n",
      "|  112575|      9344|       1|\n",
      "|   57559|     24700|       1|\n",
      "|   74719|      9238|       1|\n",
      "|    6457|     10951|       1|\n",
      "|   58521|     18047|       1|\n",
      "|   41147|      3442|       1|\n",
      "+--------+----------+--------+\n",
      "only showing top 20 rows\n",
      "\n"
     ]
    }
   ],
   "source": [
    "#menunjukkan hasil penambahan qty\n",
    "sales_fact_qty.show()"
   ]
  },
  {
   "cell_type": "markdown",
   "metadata": {},
   "source": [
    "Data \"quantity\" berhasil dibuat."
   ]
  },
  {
   "cell_type": "code",
   "execution_count": 50,
   "metadata": {},
   "outputs": [],
   "source": [
    "#untuk menyempurnakan isi dari \"sales_fact\" maka akan dibuat data 'total_amount'. Maka kita hitung total_amount dengan cara seperti berikut\n",
    "sales_fact_ta = sales_fact.groupBy(\"order_id\", \"product_id\").agg(sum(\"sale_price\").alias(\"total_amount\"))"
   ]
  },
  {
   "cell_type": "code",
   "execution_count": 51,
   "metadata": {},
   "outputs": [
    {
     "name": "stdout",
     "output_type": "stream",
     "text": [
      "+--------+----------+------------------+\n",
      "|order_id|product_id|      total_amount|\n",
      "+--------+----------+------------------+\n",
      "|   59731|     13920|              18.5|\n",
      "|   96800|     20061|19.989999771118164|\n",
      "|   15065|     21617|29.989999771118164|\n",
      "|   26791|     24562|  36.9900016784668|\n",
      "|   36518|      2216|  41.9900016784668|\n",
      "|    2035|     21910|  39.9900016784668|\n",
      "|   20422|     20184| 79.94999694824217|\n",
      "|    3873|     17266|              72.0|\n",
      "|  122187|      4481|             189.0|\n",
      "|  122482|     16494|17.950000762939453|\n",
      "|   83877|     10764|              10.0|\n",
      "|   81484|     17560|24.989999771118164|\n",
      "|  106446|      3017|              25.0|\n",
      "|    4001|     20339|19.989999771118164|\n",
      "|  112575|      9344|15.989999771118164|\n",
      "|   57559|     24700|10.989999771118164|\n",
      "|   74719|      9238|12.989999771118164|\n",
      "|    6457|     10951|              16.0|\n",
      "|   58521|     18047|              18.5|\n",
      "|   41147|      3442|10.359999656677246|\n",
      "+--------+----------+------------------+\n",
      "only showing top 20 rows\n",
      "\n"
     ]
    }
   ],
   "source": [
    "#Untuk menampilkan pembuatan data 'total_amount'\n",
    "sales_fact_ta.show()"
   ]
  },
  {
   "cell_type": "code",
   "execution_count": 52,
   "metadata": {},
   "outputs": [],
   "source": [
    "# Data \"quantity\" dan \"total_amount\" telah dibuat, lalu kita masukkan ke data \"sales_fact\" dengan cara join kedua data tersebut.\n",
    "sales_fact = sales_fact.join(sales_fact_qty, on=[\"order_id\", \"product_id\"])\n",
    "sales_fact = sales_fact.join(sales_fact_ta, on=[\"order_id\", \"product_id\"])"
   ]
  },
  {
   "cell_type": "code",
   "execution_count": 53,
   "metadata": {},
   "outputs": [
    {
     "name": "stdout",
     "output_type": "stream",
     "text": [
      "+--------+----------+------+-------+-----------------+--------+-------------------+-------------------+-------------------+-------------------+------------------+--------+------------------+\n",
      "|order_id|product_id|    id|user_id|inventory_item_id|  status|         created_at|         shipped_at|       delivered_at|        returned_at|        sale_price|quantity|      total_amount|\n",
      "+--------+----------+------+-------+-----------------+--------+-------------------+-------------------+-------------------+-------------------+------------------+--------+------------------+\n",
      "|   14753|     12599| 21463|  11813|            57725|Returned|2024-10-06 00:52:44|2024-10-08 15:52:00|2024-10-09 03:45:00|2024-10-09 16:28:00|               8.0|       1|               8.0|\n",
      "|   15379|     12671| 22361|  12307|            60163|Returned|2024-05-24 02:59:55|2024-05-26 15:29:00|2024-05-28 04:36:00|2024-05-28 06:31:00|  10.1899995803833|       1|  10.1899995803833|\n",
      "|   49135|       528| 71220|  39310|           191921|Returned|2020-07-20 09:12:12|2020-07-21 17:23:00|2020-07-22 06:32:00|2020-07-23 21:15:00|10.369999885559082|       1|10.369999885559082|\n",
      "|   10220|      9397| 14846|   8161|            39945|Returned|2022-08-04 05:57:06|2022-08-04 12:25:00|2022-08-09 07:51:00|2022-08-11 02:52:00|10.989999771118164|       1|10.989999771118164|\n",
      "|   19110|      7116| 27764|  15310|            74636|Returned|2023-07-07 13:53:06|2023-07-09 05:52:00|2023-07-14 02:04:00|2023-07-15 01:48:00|11.989999771118164|       1|11.989999771118164|\n",
      "|   90765|     25034|131613|  72639|           354840|Returned|2023-06-04 10:36:08|2023-06-05 08:56:00|2023-06-06 01:08:00|2023-06-08 15:03:00|              12.0|       1|              12.0|\n",
      "|   67581|     24946| 97995|  54124|           264106|Returned|2024-08-27 09:45:24|2024-08-28 08:02:00|2024-08-31 13:28:00|2024-09-03 08:37:00|              13.0|       1|              13.0|\n",
      "|    9639|     13750| 14028|   7669|            37725|Returned|2024-04-28 13:35:34|2024-04-28 19:47:00|2024-04-30 00:25:00|2024-05-02 06:21:00|13.989999771118164|       1|13.989999771118164|\n",
      "|   66799|     10893| 96897|  53478|           261117|Returned|2022-02-18 08:37:01|2022-02-19 05:00:00|2022-02-21 15:05:00|2022-02-23 18:02:00|13.989999771118164|       1|13.989999771118164|\n",
      "|    3548|      9395|  5154|   2790|            13871|Returned|2024-12-22 12:26:46|2024-12-19 23:02:00|2024-12-21 04:42:00|2024-12-22 12:47:00|              14.0|       1|              14.0|\n",
      "|   83280|     24460|120646|  66560|           325239|Returned|2023-02-11 10:50:49|2023-02-10 05:33:00|2023-02-11 10:46:00|2023-02-14 05:07:00|              14.0|       1|              14.0|\n",
      "|   16362|      6420| 23810|  13100|            64068|Returned|2022-07-02 07:50:50|2022-07-04 04:40:00|2022-07-07 21:56:00|2022-07-10 08:11:00|14.270000457763672|       1|14.270000457763672|\n",
      "|       1|     25012|     2|      2|                4|Returned|2023-10-11 01:37:46|2023-10-09 22:30:00|2023-10-12 23:17:00|2023-10-15 09:49:00|              15.0|       1|              15.0|\n",
      "|  124532|     28909|180697|  99828|           487350|Returned|2022-09-11 13:33:56|2022-09-13 00:43:00|2022-09-17 22:21:00|2022-09-19 17:26:00|              15.0|       1|              15.0|\n",
      "|   86686|      7284|125659|  69300|           338778|Returned|2023-06-17 16:59:08|2023-06-19 14:48:00|2023-06-21 09:41:00|2023-06-22 17:55:00|15.899999618530272|       1|15.899999618530272|\n",
      "|    1211|     18573|  1725|    974|             4638|Returned|2024-12-05 05:18:05|2024-12-05 12:25:00|2024-12-09 02:39:00|2024-12-11 13:50:00|16.950000762939453|       1|16.950000762939453|\n",
      "|   68980|     26454|100057|  55163|           269644|Returned|2024-04-27 16:36:47|2024-04-28 08:18:00|2024-05-01 20:34:00|2024-05-02 06:49:00|19.950000762939453|       1|19.950000762939453|\n",
      "|  112728|      3469|163506|  90278|           440996|Returned|2022-10-16 11:44:12|2022-10-16 18:45:00|2022-10-17 16:51:00|2022-10-19 17:30:00|19.989999771118164|       1|19.989999771118164|\n",
      "|  124410|     12036|180521|  99724|           486882|Returned|2025-01-02 22:40:01|2025-01-03 02:23:00|2025-01-04 10:23:00|2025-01-05 14:13:00|19.989999771118164|       1|19.989999771118164|\n",
      "|   96242|     24495|139661|  76950|           376612|Returned|2025-01-31 00:33:39|2025-01-28 10:45:00|2025-01-30 15:51:00|2025-02-02 09:53:00| 20.40999984741211|       1| 20.40999984741211|\n",
      "+--------+----------+------+-------+-----------------+--------+-------------------+-------------------+-------------------+-------------------+------------------+--------+------------------+\n",
      "only showing top 20 rows\n",
      "\n"
     ]
    }
   ],
   "source": [
    "#menampilkan hasil sementara\n",
    "sales_fact.show()"
   ]
  },
  {
   "cell_type": "markdown",
   "metadata": {},
   "source": [
    "Data 'quantity' dan 'total_amount' berhasil dimasukkan ke dalam \"sales_fact\"."
   ]
  },
  {
   "cell_type": "code",
   "execution_count": 54,
   "metadata": {},
   "outputs": [],
   "source": [
    "# kita akan merubah data \"id\" menjadi \"sales_id\" agar menjadi pembeda daripada id id lainnya\n",
    "sales_fact = sales_fact.withColumnRenamed(\"id\", \"sales_id\")"
   ]
  },
  {
   "cell_type": "code",
   "execution_count": 55,
   "metadata": {},
   "outputs": [],
   "source": [
    "#Karena Unique ID dari setiap Dimension ID sudah ada, terkecuali \"date_dimension\" maka kita akan join \"date_dimension\" ke \"sales_fact\"\n",
    "sales_fact_join = sales_fact.join(date_dimension, on=[\"created_at\"], how=\"left\")"
   ]
  },
  {
   "cell_type": "code",
   "execution_count": 56,
   "metadata": {},
   "outputs": [
    {
     "name": "stdout",
     "output_type": "stream",
     "text": [
      "+-------------------+--------+----------+--------+-------+-----------------+--------+-------------------+-------------------+-------------------+------------------+--------+------------------+-----------+-----+-------+---------+----+\n",
      "|         created_at|order_id|product_id|sales_id|user_id|inventory_item_id|  status|         shipped_at|       delivered_at|        returned_at|        sale_price|quantity|      total_amount|    date_id|month|quarter|half_year|year|\n",
      "+-------------------+--------+----------+--------+-------+-----------------+--------+-------------------+-------------------+-------------------+------------------+--------+------------------+-----------+-----+-------+---------+----+\n",
      "|2019-10-19 06:51:38|   53765|       137|   77935|  42957|           210141|Returned|2019-10-20 18:15:00|2019-10-25 16:17:00|2019-10-27 11:10:00|12.989999771118164|       1|12.989999771118164| 8589934602|   10|      4|       H2|2019|\n",
      "|2019-10-30 01:08:17|   77695|     25173|  112610|  62103|           303560|Returned|2019-10-28 03:50:00|2019-10-31 19:05:00|2019-11-02 22:46:00|              10.0|       1|              10.0|25769803784|   10|      4|       H2|2019|\n",
      "|2021-01-02 04:29:01|   49963|     16705|   72423|  39980|           195187|Returned|2021-01-03 16:30:00|2021-01-06 14:32:00|2021-01-08 06:28:00|              19.5|       1|              19.5|25769803795|    1|      1|       H1|2021|\n",
      "|2021-04-30 21:47:20|   97674|     24458|  141696|  78136|           382088|Returned|2021-04-28 20:10:00|2021-05-02 11:17:00|2021-05-04 20:50:00|              14.0|       1|              14.0|25769803789|    4|      2|       H1|2021|\n",
      "|2021-09-01 21:33:37|   76213|      9204|  110394|  60913|           297581|Returned|2021-09-02 06:58:00|2021-09-05 03:08:00|2021-09-05 14:23:00| 1.950000047683716|       1| 1.950000047683716|17179869184|    9|      3|       H2|2021|\n",
      "|2021-11-14 18:08:03|  116461|      4073|  168945|  93290|           455706|Returned|2021-11-17 10:20:00|2021-11-21 00:39:00|2021-11-23 03:17:00|13.199999809265137|       1|13.199999809265137| 8589934603|   11|      4|       H2|2021|\n",
      "|2022-06-16 23:45:03|   24552|      6923|   35687|  19603|            96134|Returned|2022-06-18 01:56:00|2022-06-18 02:56:00|2022-06-19 23:40:00|14.479999542236328|       1|14.479999542236328|25769803790|    6|      2|       H1|2022|\n",
      "|2022-08-28 01:23:52|  119774|     25057|  173746|  95964|           468722|Returned|2022-08-30 15:49:00|2022-09-03 01:02:00|2022-09-03 11:53:00|12.800000190734863|       1|12.800000190734863| 8589934600|    8|      3|       H2|2022|\n",
      "|2022-09-11 13:33:56|  124532|     28909|  180697|  99828|           487350|Returned|2022-09-13 00:43:00|2022-09-17 22:21:00|2022-09-19 17:26:00|              15.0|       1|              15.0|         13|    9|      3|       H2|2022|\n",
      "|2023-01-11 04:46:45|   69365|     12570|  100604|  55492|           271134|Returned|2023-01-11 01:42:00|2023-01-14 07:42:00|2023-01-14 11:18:00| 8.949999809265137|       1| 8.949999809265137| 8589934593|    1|      1|       H1|2023|\n",
      "|2023-02-11 10:50:49|   83280|     24460|  120646|  66560|           325239|Returned|2023-02-10 05:33:00|2023-02-11 10:46:00|2023-02-14 05:07:00|              14.0|       1|              14.0|         10|    2|      1|       H1|2023|\n",
      "|2023-06-04 10:36:08|   90765|     25034|  131613|  72639|           354840|Returned|2023-06-05 08:56:00|2023-06-06 01:08:00|2023-06-08 15:03:00|              12.0|       1|              12.0|          5|    6|      2|       H1|2023|\n",
      "|2023-07-07 02:38:51|   19188|     24521|   27889|  15370|            74977|Returned|2023-07-07 21:39:00|2023-07-08 13:33:00|2023-07-09 01:13:00|              21.0|       1|              21.0|         20|    7|      3|       H2|2023|\n",
      "|2023-07-07 13:53:06|   19110|      7116|   27764|  15310|            74636|Returned|2023-07-09 05:52:00|2023-07-14 02:04:00|2023-07-15 01:48:00|11.989999771118164|       1|11.989999771118164|          4|    7|      3|       H2|2023|\n",
      "|2023-09-12 10:36:38|   36917|      9150|   53542|  29436|           144290|Returned|2023-09-13 03:51:00|2023-09-17 00:14:00|2023-09-17 12:59:00|12.949999809265137|       1|12.949999809265137|17179869198|    9|      3|       H2|2023|\n",
      "|2023-11-25 07:30:04|   89697|     26343|  130047|  71756|           350585|Returned|2023-11-25 22:23:00|2023-11-30 03:56:00|2023-11-30 17:56:00|              21.5|       1|              21.5| 8589934612|   11|      4|       H2|2023|\n",
      "|2023-12-27 01:28:27|   74537|     29075|  108017|  59594|           291169|Returned|2023-12-24 15:49:00|2023-12-25 04:35:00|2023-12-25 15:38:00|12.390000343322754|       1|12.390000343322754| 8589934599|   12|      4|       H2|2023|\n",
      "|2024-01-30 02:20:16|    5949|      9324|    8678|   4746|            23371|Returned|2024-01-31 01:11:00|2024-01-31 12:31:00|2024-02-01 15:32:00|13.989999771118164|       1|13.989999771118164|17179869200|    1|      1|       H1|2024|\n",
      "|2024-05-07 03:35:29|  114685|     28533|  166353|  91819|           448709|Returned|2024-05-09 21:32:00|2024-05-12 19:49:00|2024-05-15 09:35:00|               9.0|       1|               9.0|25769803782|    5|      2|       H1|2024|\n",
      "|2024-06-28 01:57:45|  107396|     24849|  155762|  85955|           420018|Returned|2024-06-30 10:13:00|2024-07-01 23:55:00|2024-07-02 05:29:00|10.989999771118164|       1|10.989999771118164|17179869194|    6|      2|       H1|2024|\n",
      "+-------------------+--------+----------+--------+-------+-----------------+--------+-------------------+-------------------+-------------------+------------------+--------+------------------+-----------+-----+-------+---------+----+\n",
      "only showing top 20 rows\n",
      "\n"
     ]
    }
   ],
   "source": [
    "#menampilkan hasil sementara\n",
    "sales_fact_join.show()"
   ]
  },
  {
   "cell_type": "markdown",
   "metadata": {},
   "source": [
    "Data 'id' sudah berhasil diubah menjadi 'sales_id', dan join data dari \"date_dimension\" ke \"sales_fact\" berhasil dilakukan."
   ]
  },
  {
   "cell_type": "markdown",
   "metadata": {},
   "source": [
    "Tetapi data terlihat sangat berantakan, maka mari kita rapihkan."
   ]
  },
  {
   "cell_type": "code",
   "execution_count": 57,
   "metadata": {},
   "outputs": [],
   "source": [
    "#Kita akan menampilkan data-data yang sekiranya berhubungan hanya pada penjualan saja.\n",
    "sales_facts = sales_fact_join.select(\"sales_id\", \"user_id\", \"order_id\", \"product_id\", \"date_id\", \"status\", \"created_at\", \"delivered_at\", \"sale_price\", \"quantity\", \"total_amount\")"
   ]
  },
  {
   "cell_type": "code",
   "execution_count": 58,
   "metadata": {},
   "outputs": [
    {
     "name": "stdout",
     "output_type": "stream",
     "text": [
      "+--------+-------+--------+----------+-------+--------+-------------------+-------------------+------------------+--------+------------------+\n",
      "|sales_id|user_id|order_id|product_id|date_id|  status|         created_at|       delivered_at|        sale_price|quantity|      total_amount|\n",
      "+--------+-------+--------+----------+-------+--------+-------------------+-------------------+------------------+--------+------------------+\n",
      "|   21463|  11813|   14753|     12599|      0|Returned|2024-10-06 00:52:44|2024-10-09 03:45:00|               8.0|       1|               8.0|\n",
      "|   22361|  12307|   15379|     12671|      1|Returned|2024-05-24 02:59:55|2024-05-28 04:36:00|  10.1899995803833|       1|  10.1899995803833|\n",
      "|   71220|  39310|   49135|       528|      2|Returned|2020-07-20 09:12:12|2020-07-22 06:32:00|10.369999885559082|       1|10.369999885559082|\n",
      "|   14846|   8161|   10220|      9397|      3|Returned|2022-08-04 05:57:06|2022-08-09 07:51:00|10.989999771118164|       1|10.989999771118164|\n",
      "|   27764|  15310|   19110|      7116|      4|Returned|2023-07-07 13:53:06|2023-07-14 02:04:00|11.989999771118164|       1|11.989999771118164|\n",
      "|  131613|  72639|   90765|     25034|      5|Returned|2023-06-04 10:36:08|2023-06-06 01:08:00|              12.0|       1|              12.0|\n",
      "|   97995|  54124|   67581|     24946|      6|Returned|2024-08-27 09:45:24|2024-08-31 13:28:00|              13.0|       1|              13.0|\n",
      "|   14028|   7669|    9639|     13750|      7|Returned|2024-04-28 13:35:34|2024-04-30 00:25:00|13.989999771118164|       1|13.989999771118164|\n",
      "|   96897|  53478|   66799|     10893|      8|Returned|2022-02-18 08:37:01|2022-02-21 15:05:00|13.989999771118164|       1|13.989999771118164|\n",
      "|    5154|   2790|    3548|      9395|      9|Returned|2024-12-22 12:26:46|2024-12-21 04:42:00|              14.0|       1|              14.0|\n",
      "|  120646|  66560|   83280|     24460|     10|Returned|2023-02-11 10:50:49|2023-02-11 10:46:00|              14.0|       1|              14.0|\n",
      "|   23810|  13100|   16362|      6420|     11|Returned|2022-07-02 07:50:50|2022-07-07 21:56:00|14.270000457763672|       1|14.270000457763672|\n",
      "|       2|      2|       1|     25012|     12|Returned|2023-10-11 01:37:46|2023-10-12 23:17:00|              15.0|       1|              15.0|\n",
      "|  180697|  99828|  124532|     28909|     13|Returned|2022-09-11 13:33:56|2022-09-17 22:21:00|              15.0|       1|              15.0|\n",
      "|  125659|  69300|   86686|      7284|     14|Returned|2023-06-17 16:59:08|2023-06-21 09:41:00|15.899999618530272|       1|15.899999618530272|\n",
      "|    1725|    974|    1211|     18573|     15|Returned|2024-12-05 05:18:05|2024-12-09 02:39:00|16.950000762939453|       1|16.950000762939453|\n",
      "|  100057|  55163|   68980|     26454|     16|Returned|2024-04-27 16:36:47|2024-05-01 20:34:00|19.950000762939453|       1|19.950000762939453|\n",
      "|  163506|  90278|  112728|      3469|     17|Returned|2022-10-16 11:44:12|2022-10-17 16:51:00|19.989999771118164|       1|19.989999771118164|\n",
      "|  180521|  99724|  124410|     12036|     18|Returned|2025-01-02 22:40:01|2025-01-04 10:23:00|19.989999771118164|       1|19.989999771118164|\n",
      "|  139661|  76950|   96242|     24495|     19|Returned|2025-01-31 00:33:39|2025-01-30 15:51:00| 20.40999984741211|       1| 20.40999984741211|\n",
      "+--------+-------+--------+----------+-------+--------+-------------------+-------------------+------------------+--------+------------------+\n",
      "only showing top 20 rows\n",
      "\n"
     ]
    }
   ],
   "source": [
    "#Menampilkan hasil akhir \"sales_fact\"\n",
    "sales_facts.show()"
   ]
  },
  {
   "cell_type": "markdown",
   "metadata": {},
   "source": [
    "Data \"sales_fact\" berhasil dibuat sesuai keinginan."
   ]
  },
  {
   "cell_type": "markdown",
   "metadata": {},
   "source": [
    "# 5. Export ke SQL"
   ]
  },
  {
   "cell_type": "code",
   "execution_count": 59,
   "metadata": {},
   "outputs": [],
   "source": [
    "# PostgreSQL JDBC Connection\n",
    "postgres_url = \"jdbc:postgresql://host.docker.internal:5432/GC6\" #menyambungkan ke database \"GC6\"\n",
    "postgres_properties = {\n",
    "    \"user\": \"postgres\",\n",
    "    \"password\": \"postgres\",\n",
    "    \"driver\": \"org.postgresql.Driver\"\n",
    "}"
   ]
  },
  {
   "cell_type": "code",
   "execution_count": null,
   "metadata": {},
   "outputs": [],
   "source": [
    "# Write DataFrame to PostgreSQL\n",
    "users_dimension.write.jdbc(url=postgres_url, table=\"users_dimension\", mode=\"append\", properties=postgres_properties)\n",
    "products_dimension.write.jdbc(url=postgres_url, table=\"products_dimension\", mode=\"append\", properties=postgres_properties)\n",
    "date_dimension.write.jdbc(url=postgres_url, table=\"date_dimension\", mode=\"append\", properties=postgres_properties)\n",
    "sales_facts.write.jdbc(url=postgres_url, table=\"sales_fact\", mode=\"append\", properties=postgres_properties)"
   ]
  },
  {
   "cell_type": "markdown",
   "metadata": {},
   "source": []
  }
 ],
 "metadata": {
  "kernelspec": {
   "display_name": "Python 3 (ipykernel)",
   "language": "python",
   "name": "python3"
  },
  "language_info": {
   "codemirror_mode": {
    "name": "ipython",
    "version": 3
   },
   "file_extension": ".py",
   "mimetype": "text/x-python",
   "name": "python",
   "nbconvert_exporter": "python",
   "pygments_lexer": "ipython3",
   "version": "3.12.9"
  }
 },
 "nbformat": 4,
 "nbformat_minor": 4
}
